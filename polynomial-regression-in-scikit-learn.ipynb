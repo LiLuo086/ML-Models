{
 "cells": [
  {
   "cell_type": "markdown",
   "id": "249e872f",
   "metadata": {
    "papermill": {
     "duration": 0.005604,
     "end_time": "2023-09-09T19:40:56.738915",
     "exception": false,
     "start_time": "2023-09-09T19:40:56.733311",
     "status": "completed"
    },
    "tags": []
   },
   "source": [
    "## 1. Why we need Polynomial Regression?\n",
    "\n",
    "[Linear Regresspion](https://www.kaggle.com/code/lxlz1986/linear-regression-model-in-scikit-learn) is a simple model to make predictions if the relationship between target and features in a dataset is linear or close to linear. \n",
    "\n",
    "However, most of the time, our data is much more complex that it is not sufficient to represent the relationship just using a straight line. In the cases with **non-linear** data, we can try to use polynomial to simulate the relationship between the output(prediction) and input(features), such as:\n",
    "\n",
    "$$\\hat{y} = \\theta_0 + \\theta_1x +\\theta_2x^2$$\n",
    "\n",
    "where $\\hat{y}$ is the prediction, $x$ is the original feature and $x^2$ is the extended feature, which is the square of the original feature.\n",
    "\n",
    "From the mathematical aspect, we can take this polynomial equation as a liner model in which $x$ and $x^2$ are two features of a data point. This makes it possible that we can train a linear model to fit the non-linear data. This method to make predictions is called **polynomial regression**."
   ]
  },
  {
   "cell_type": "markdown",
   "id": "47558b44",
   "metadata": {
    "papermill": {
     "duration": 0.004306,
     "end_time": "2023-09-09T19:40:56.748145",
     "exception": false,
     "start_time": "2023-09-09T19:40:56.743839",
     "status": "completed"
    },
    "tags": []
   },
   "source": [
    "## 2. How to train Polynomial Regression model using Linear Regression model?\n",
    "\n",
    "As mentioned above, we can train a liner model to fit non-liner data by extend the single feature to multiple features. \n",
    "There are many ways to extend the feature, and one straight way is to add powers to the original feature. \n",
    "\n",
    "Now, we will look at how it works in Scikit-Learn."
   ]
  },
  {
   "cell_type": "markdown",
   "id": "0f45ec75",
   "metadata": {
    "papermill": {
     "duration": 0.004218,
     "end_time": "2023-09-09T19:40:56.756804",
     "exception": false,
     "start_time": "2023-09-09T19:40:56.752586",
     "status": "completed"
    },
    "tags": []
   },
   "source": [
    "### 2.1 Import necessary packages"
   ]
  },
  {
   "cell_type": "code",
   "execution_count": 1,
   "id": "71061d6a",
   "metadata": {
    "execution": {
     "iopub.execute_input": "2023-09-09T19:40:56.767874Z",
     "iopub.status.busy": "2023-09-09T19:40:56.767122Z",
     "iopub.status.idle": "2023-09-09T19:40:58.167018Z",
     "shell.execute_reply": "2023-09-09T19:40:58.165947Z"
    },
    "papermill": {
     "duration": 1.408366,
     "end_time": "2023-09-09T19:40:58.169674",
     "exception": false,
     "start_time": "2023-09-09T19:40:56.761308",
     "status": "completed"
    },
    "tags": []
   },
   "outputs": [],
   "source": [
    "import numpy as np # linear algebra\n",
    "\n",
    "import matplotlib as mpl # ploting\n",
    "import matplotlib.pyplot as plt\n",
    "\n",
    "from sklearn.linear_model import LinearRegression  # liner regression model\n",
    "from sklearn.preprocessing import PolynomialFeatures # polynommial features(extended features)"
   ]
  },
  {
   "cell_type": "markdown",
   "id": "4ab094a5",
   "metadata": {
    "papermill": {
     "duration": 0.004407,
     "end_time": "2023-09-09T19:40:58.179175",
     "exception": false,
     "start_time": "2023-09-09T19:40:58.174768",
     "status": "completed"
    },
    "tags": []
   },
   "source": [
    "### 2.2 Generating non-linear dataset based on 2-degree polynomial "
   ]
  },
  {
   "cell_type": "code",
   "execution_count": 2,
   "id": "e2cf725d",
   "metadata": {
    "execution": {
     "iopub.execute_input": "2023-09-09T19:40:58.190649Z",
     "iopub.status.busy": "2023-09-09T19:40:58.190150Z",
     "iopub.status.idle": "2023-09-09T19:40:58.506703Z",
     "shell.execute_reply": "2023-09-09T19:40:58.505571Z"
    },
    "papermill": {
     "duration": 0.325339,
     "end_time": "2023-09-09T19:40:58.509285",
     "exception": false,
     "start_time": "2023-09-09T19:40:58.183946",
     "status": "completed"
    },
    "tags": []
   },
   "outputs": [
    {
     "data": {
      "image/png": "[encoded data removed]",
      "text/plain": [
       "<Figure size 640x480 with 1 Axes>"
      ]
     },
     "metadata": {},
     "output_type": "display_data"
    }
   ],
   "source": [
    "n = 100\n",
    "X = 6 * np.random.rand(n,1)-4\n",
    "y = X**2 + 2 * X + 3 + np.random.rand(n,1)\n",
    "\n",
    "# plotting the dataset\n",
    "plt.plot(X,y,'b.')\n",
    "plt.xlabel('X')\n",
    "plt.ylabel('y')\n",
    "plt.title('Non-linear Dataset')\n",
    "plt.axis([-3,3,0.5,12])\n",
    "plt.grid(True)"
   ]
  },
  {
   "cell_type": "markdown",
   "id": "95468fcd",
   "metadata": {
    "papermill": {
     "duration": 0.00468,
     "end_time": "2023-09-09T19:40:58.519059",
     "exception": false,
     "start_time": "2023-09-09T19:40:58.514379",
     "status": "completed"
    },
    "tags": []
   },
   "source": [
    "Here we see that the generated dataset is obviously non-linear. "
   ]
  },
  {
   "cell_type": "markdown",
   "id": "7208564f",
   "metadata": {
    "papermill": {
     "duration": 0.004548,
     "end_time": "2023-09-09T19:40:58.528625",
     "exception": false,
     "start_time": "2023-09-09T19:40:58.524077",
     "status": "completed"
    },
    "tags": []
   },
   "source": [
    "### 2.3 Transforming dataset to have polynomial features\n",
    "In oder to have polynomial features, we add square of each feature as new features. This can be down with the help of `PolynomialFeature` and `fit_transform` in Scikit-Learn."
   ]
  },
  {
   "cell_type": "code",
   "execution_count": 3,
   "id": "f8acfffd",
   "metadata": {
    "execution": {
     "iopub.execute_input": "2023-09-09T19:40:58.541232Z",
     "iopub.status.busy": "2023-09-09T19:40:58.540506Z",
     "iopub.status.idle": "2023-09-09T19:40:58.547448Z",
     "shell.execute_reply": "2023-09-09T19:40:58.546671Z"
    },
    "papermill": {
     "duration": 0.016429,
     "end_time": "2023-09-09T19:40:58.549834",
     "exception": false,
     "start_time": "2023-09-09T19:40:58.533405",
     "status": "completed"
    },
    "tags": []
   },
   "outputs": [
    {
     "name": "stdout",
     "output_type": "stream",
     "text": [
      "original feature: [-3.61164254]\n",
      "polynomial features [ 1.         -3.61164254 13.04396187]\n"
     ]
    }
   ],
   "source": [
    "poly_features = PolynomialFeatures(degree=2) # decide the maximal degree of the polynomial feature\n",
    "X_ploy = poly_features.fit_transform(X) # convert the original feature to polynomial feature\n",
    "\n",
    "\n",
    "# check the extened polynomial features of the first data point\n",
    "print('original feature:', X[0])\n",
    "print('polynomial features',X_ploy[0])\n"
   ]
  },
  {
   "cell_type": "markdown",
   "id": "56da7c70",
   "metadata": {
    "papermill": {
     "duration": 0.004756,
     "end_time": "2023-09-09T19:40:58.559829",
     "exception": false,
     "start_time": "2023-09-09T19:40:58.555073",
     "status": "completed"
    },
    "tags": []
   },
   "source": [
    "### 2.4 Using new polynomial features to train the Linear Regression model\n",
    "\n",
    "Now we can use the above obtained polynomial features to train the Linear Regression model."
   ]
  },
  {
   "cell_type": "code",
   "execution_count": 4,
   "id": "b50a990e",
   "metadata": {
    "execution": {
     "iopub.execute_input": "2023-09-09T19:40:58.571543Z",
     "iopub.status.busy": "2023-09-09T19:40:58.570980Z",
     "iopub.status.idle": "2023-09-09T19:40:58.612178Z",
     "shell.execute_reply": "2023-09-09T19:40:58.610995Z"
    },
    "papermill": {
     "duration": 0.04978,
     "end_time": "2023-09-09T19:40:58.614508",
     "exception": false,
     "start_time": "2023-09-09T19:40:58.564728",
     "status": "completed"
    },
    "tags": []
   },
   "outputs": [
    {
     "data": {
      "text/plain": [
       "(array([3.47005508]), array([[0.        , 2.04302144, 1.01570536]]))"
      ]
     },
     "execution_count": 4,
     "metadata": {},
     "output_type": "execute_result"
    }
   ],
   "source": [
    "lin_reg = LinearRegression()\n",
    "lin_reg.fit(X_ploy,y)\n",
    "lin_reg.intercept_, lin_reg.coef_ # check the bais term and feature weights of the trained model"
   ]
  },
  {
   "cell_type": "markdown",
   "id": "f8c979b8",
   "metadata": {
    "papermill": {
     "duration": 0.005061,
     "end_time": "2023-09-09T19:40:58.624985",
     "exception": false,
     "start_time": "2023-09-09T19:40:58.619924",
     "status": "completed"
    },
    "tags": []
   },
   "source": [
    "### 2.5 Using the trained Linear Regression model to make predictions"
   ]
  },
  {
   "cell_type": "code",
   "execution_count": 5,
   "id": "008422c8",
   "metadata": {
    "execution": {
     "iopub.execute_input": "2023-09-09T19:40:58.637678Z",
     "iopub.status.busy": "2023-09-09T19:40:58.636816Z",
     "iopub.status.idle": "2023-09-09T19:40:58.925709Z",
     "shell.execute_reply": "2023-09-09T19:40:58.924882Z"
    },
    "papermill": {
     "duration": 0.297518,
     "end_time": "2023-09-09T19:40:58.927963",
     "exception": false,
     "start_time": "2023-09-09T19:40:58.630445",
     "status": "completed"
    },
    "tags": []
   },
   "outputs": [
    {
     "data": {
      "image/png": "[encoded data removed]",
      "text/plain": [
       "<Figure size 640x480 with 1 Axes>"
      ]
     },
     "metadata": {},
     "output_type": "display_data"
    }
   ],
   "source": [
    "X_new = np.sort(X,axis = 0) # in order to plot the line of the model, we need to sort the the value of x-axis\n",
    "X_new_ploy = poly_features.fit_transform(X_new) # compute the polynomial features \n",
    "y_predict = lin_reg.predict(X_new_ploy) # make predictions using trained Linear Regression model\n",
    "\n",
    "# plot the original dataset and the prediction results\n",
    "fig,ax = plt.subplots()\n",
    "ax.plot(X,y,'b.', label = 'Training date samples')\n",
    "ax.plot(X_new,y_predict,'g-',linewidth=2, label = 'Predictions')\n",
    "ax.axis([-3,4,0.5,12])\n",
    "ax.set_xlabel('X')\n",
    "ax.set_ylabel('y')\n",
    "ax.legend()\n",
    "ax.grid(True)"
   ]
  },
  {
   "cell_type": "markdown",
   "id": "15cdc237",
   "metadata": {
    "papermill": {
     "duration": 0.005362,
     "end_time": "2023-09-09T19:40:58.939219",
     "exception": false,
     "start_time": "2023-09-09T19:40:58.933857",
     "status": "completed"
    },
    "tags": []
   },
   "source": [
    "From the comparasion we see that, the trained polynomial model fits the training dataset actually very well."
   ]
  }
 ],
 "kernelspec": {
  "display_name": "Python 3",
  "language": "python",
  "name": "python3"
 },
 "language_info": {
  "codemirror_mode": {
   "name": "ipython",
   "version": 3
  },
  "file_extension": ".py",
  "mimetype": "text/x-python",
  "name": "python",
  "nbconvert_exporter": "python",
  "pygments_lexer": "ipython3",
  "version": "3.6.4"
 },
 "metadata": {
  "kernelspec": {
   "display_name": "Python 3",
   "language": "python",
   "name": "python3"
  },
  "language_info": {
   "codemirror_mode": {
    "name": "ipython",
    "version": 3
   },
   "file_extension": ".py",
   "mimetype": "text/x-python",
   "name": "python",
   "nbconvert_exporter": "python",
   "pygments_lexer": "ipython3",
   "version": "3.10.12"
  },
  "papermill": {
   "default_parameters": {},
   "duration": 5.768254,
   "end_time": "2023-09-09T19:40:59.364003",
   "environment_variables": {},
   "exception": null,
   "input_path": "__notebook__.ipynb",
   "output_path": "__notebook__.ipynb",
   "parameters": {},
   "start_time": "2023-09-09T19:40:53.595749",
   "version": "2.4.0"
  }
 },
 "nbformat": 4,
 "nbformat_minor": 5
}
