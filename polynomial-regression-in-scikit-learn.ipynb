{
 "cells": [
  {
   "cell_type": "code",
   "execution_count": 1,
   "id": "f2b81592",
   "metadata": {
    "_cell_guid": "b1076dfc-b9ad-4769-8c92-a6c4dae69d19",
    "_uuid": "8f2839f25d086af736a60e9eeb907d3b93b6e0e5",
    "execution": {
     "iopub.execute_input": "2023-09-09T14:47:50.127620Z",
     "iopub.status.busy": "2023-09-09T14:47:50.127008Z",
     "iopub.status.idle": "2023-09-09T14:47:52.186451Z",
     "shell.execute_reply": "2023-09-09T14:47:52.184788Z"
    },
    "papermill": {
     "duration": 2.072805,
     "end_time": "2023-09-09T14:47:52.190353",
     "exception": false,
     "start_time": "2023-09-09T14:47:50.117548",
     "status": "completed"
    },
    "tags": []
   },
   "outputs": [],
   "source": [
    "import numpy as np # linear algebra\n",
    "import pandas as pd # data processing, CSV file I/O (e.g. pd.read_csv)\n",
    "\n",
    "import matplotlib as mpl\n",
    "import matplotlib.pyplot as plt\n",
    "\n",
    "from sklearn.linear_model import LinearRegression\n",
    "from sklearn.preprocessing import PolynomialFeatures"
   ]
  },
  {
   "cell_type": "markdown",
   "id": "4dfbb785",
   "metadata": {
    "papermill": {
     "duration": 0.005902,
     "end_time": "2023-09-09T14:47:52.202843",
     "exception": false,
     "start_time": "2023-09-09T14:47:52.196941",
     "status": "completed"
    },
    "tags": []
   },
   "source": [
    "### Generating non-linear dataset based on 2-degree polynomial "
   ]
  },
  {
   "cell_type": "code",
   "execution_count": 2,
   "id": "0032ac2c",
   "metadata": {
    "execution": {
     "iopub.execute_input": "2023-09-09T14:47:52.217656Z",
     "iopub.status.busy": "2023-09-09T14:47:52.216691Z",
     "iopub.status.idle": "2023-09-09T14:47:52.222478Z",
     "shell.execute_reply": "2023-09-09T14:47:52.221530Z"
    },
    "papermill": {
     "duration": 0.016079,
     "end_time": "2023-09-09T14:47:52.224870",
     "exception": false,
     "start_time": "2023-09-09T14:47:52.208791",
     "status": "completed"
    },
    "tags": []
   },
   "outputs": [],
   "source": [
    "n = 100\n",
    "X =6 * np.random.rand(n,1)-4\n",
    "y = X**2 + 2 * X + 3 + np.random.rand(n,1)"
   ]
  },
  {
   "cell_type": "markdown",
   "id": "ee4514fb",
   "metadata": {
    "papermill": {
     "duration": 0.005783,
     "end_time": "2023-09-09T14:47:52.236522",
     "exception": false,
     "start_time": "2023-09-09T14:47:52.230739",
     "status": "completed"
    },
    "tags": []
   },
   "source": [
    "### Plotting the dataset"
   ]
  },
  {
   "cell_type": "code",
   "execution_count": 3,
   "id": "e1d797e8",
   "metadata": {
    "execution": {
     "iopub.execute_input": "2023-09-09T14:47:52.251174Z",
     "iopub.status.busy": "2023-09-09T14:47:52.249770Z",
     "iopub.status.idle": "2023-09-09T14:47:52.755590Z",
     "shell.execute_reply": "2023-09-09T14:47:52.754312Z"
    },
    "papermill": {
     "duration": 0.51664,
     "end_time": "2023-09-09T14:47:52.758972",
     "exception": false,
     "start_time": "2023-09-09T14:47:52.242332",
     "status": "completed"
    },
    "tags": []
   },
   "outputs": [
    {
     "data": {
      "image/png": "[encoded data removed]",
      "text/plain": [
       "<Figure size 640x480 with 1 Axes>"
      ]
     },
     "metadata": {},
     "output_type": "display_data"
    }
   ],
   "source": [
    "plt.plot(X,y,'b.')\n",
    "plt.xlabel('X')\n",
    "plt.ylabel('y')\n",
    "plt.title('Non-linear Dataset')\n",
    "plt.axis([-3,3,0.5,12])\n",
    "plt.grid(True)\n"
   ]
  },
  {
   "cell_type": "markdown",
   "id": "ab30e026",
   "metadata": {
    "papermill": {
     "duration": 0.006275,
     "end_time": "2023-09-09T14:47:52.771908",
     "exception": false,
     "start_time": "2023-09-09T14:47:52.765633",
     "status": "completed"
    },
    "tags": []
   },
   "source": [
    "### Transforming dataset to have polynomial features\n",
    "Adding square of each feature as new features"
   ]
  },
  {
   "cell_type": "code",
   "execution_count": 4,
   "id": "59d52d67",
   "metadata": {
    "execution": {
     "iopub.execute_input": "2023-09-09T14:47:52.787330Z",
     "iopub.status.busy": "2023-09-09T14:47:52.786143Z",
     "iopub.status.idle": "2023-09-09T14:47:52.795099Z",
     "shell.execute_reply": "2023-09-09T14:47:52.793951Z"
    },
    "papermill": {
     "duration": 0.019785,
     "end_time": "2023-09-09T14:47:52.797990",
     "exception": false,
     "start_time": "2023-09-09T14:47:52.778205",
     "status": "completed"
    },
    "tags": []
   },
   "outputs": [
    {
     "name": "stdout",
     "output_type": "stream",
     "text": [
      "[0.14598358]\n",
      "[0.14598358 0.02131121]\n"
     ]
    }
   ],
   "source": [
    "poly_features = PolynomialFeatures(degree=2, include_bias = False)\n",
    "X_ploy = poly_features.fit_transform(X)\n",
    "print(X[0])\n",
    "print(X_ploy[0])"
   ]
  },
  {
   "cell_type": "markdown",
   "id": "834df6ec",
   "metadata": {
    "papermill": {
     "duration": 0.006128,
     "end_time": "2023-09-09T14:47:52.810849",
     "exception": false,
     "start_time": "2023-09-09T14:47:52.804721",
     "status": "completed"
    },
    "tags": []
   },
   "source": [
    "### Using new polynomial features to train the Linear Regression model"
   ]
  },
  {
   "cell_type": "code",
   "execution_count": 5,
   "id": "6dffcbf4",
   "metadata": {
    "execution": {
     "iopub.execute_input": "2023-09-09T14:47:52.826464Z",
     "iopub.status.busy": "2023-09-09T14:47:52.825398Z",
     "iopub.status.idle": "2023-09-09T14:47:52.856805Z",
     "shell.execute_reply": "2023-09-09T14:47:52.855289Z"
    },
    "papermill": {
     "duration": 0.042241,
     "end_time": "2023-09-09T14:47:52.859660",
     "exception": false,
     "start_time": "2023-09-09T14:47:52.817419",
     "status": "completed"
    },
    "tags": []
   },
   "outputs": [
    {
     "data": {
      "text/plain": [
       "(array([3.52652813]), array([[1.96231641, 0.98347942]]))"
      ]
     },
     "execution_count": 5,
     "metadata": {},
     "output_type": "execute_result"
    }
   ],
   "source": [
    "lin_reg = LinearRegression()\n",
    "lin_reg.fit(X_ploy,y)\n",
    "lin_reg.intercept_, lin_reg.coef_"
   ]
  },
  {
   "cell_type": "markdown",
   "id": "7cb4f04c",
   "metadata": {
    "papermill": {
     "duration": 0.006668,
     "end_time": "2023-09-09T14:47:52.873374",
     "exception": false,
     "start_time": "2023-09-09T14:47:52.866706",
     "status": "completed"
    },
    "tags": []
   },
   "source": [
    "### Using the trained Linear Regression model to make predictions"
   ]
  },
  {
   "cell_type": "code",
   "execution_count": 6,
   "id": "133eb71c",
   "metadata": {
    "execution": {
     "iopub.execute_input": "2023-09-09T14:47:52.888960Z",
     "iopub.status.busy": "2023-09-09T14:47:52.888563Z",
     "iopub.status.idle": "2023-09-09T14:47:53.236237Z",
     "shell.execute_reply": "2023-09-09T14:47:53.235105Z"
    },
    "papermill": {
     "duration": 0.35859,
     "end_time": "2023-09-09T14:47:53.238751",
     "exception": false,
     "start_time": "2023-09-09T14:47:52.880161",
     "status": "completed"
    },
    "tags": []
   },
   "outputs": [
    {
     "data": {
      "image/png": "[encoded data removed]",
      "text/plain": [
       "<Figure size 640x480 with 1 Axes>"
      ]
     },
     "metadata": {},
     "output_type": "display_data"
    }
   ],
   "source": [
    "X_new = np.sort(X,axis = 0) \n",
    "X_new_ploy = poly_features.fit_transform(X_new)\n",
    "y_predict = lin_reg.predict(X_new_ploy)\n",
    "fig,ax = plt.subplots()\n",
    "ax.plot(X,y,'b.', label = 'Date samples')\n",
    "ax.plot(X_new,y_predict,'g',linewidth=2, label = 'Predictions')\n",
    "ax.axis([-3,4,0.5,12])\n",
    "ax.set_xlabel('X')\n",
    "ax.set_ylabel('y')\n",
    "ax.legend()\n",
    "ax.grid(True)"
   ]
  }
 ],
 "kernelspec": {
  "display_name": "Python 3",
  "language": "python",
  "name": "python3"
 },
 "language_info": {
  "codemirror_mode": {
   "name": "ipython",
   "version": 3
  },
  "file_extension": ".py",
  "mimetype": "text/x-python",
  "name": "python",
  "nbconvert_exporter": "python",
  "pygments_lexer": "ipython3",
  "version": "3.6.4"
 },
 "metadata": {
  "kernelspec": {
   "display_name": "Python 3",
   "language": "python",
   "name": "python3"
  },
  "language_info": {
   "codemirror_mode": {
    "name": "ipython",
    "version": 3
   },
   "file_extension": ".py",
   "mimetype": "text/x-python",
   "name": "python",
   "nbconvert_exporter": "python",
   "pygments_lexer": "ipython3",
   "version": "3.10.12"
  },
  "papermill": {
   "default_parameters": {},
   "duration": 7.722073,
   "end_time": "2023-09-09T14:47:53.867402",
   "environment_variables": {},
   "exception": null,
   "input_path": "__notebook__.ipynb",
   "output_path": "__notebook__.ipynb",
   "parameters": {},
   "start_time": "2023-09-09T14:47:46.145329",
   "version": "2.4.0"
  }
 },
 "nbformat": 4,
 "nbformat_minor": 5
}
