{
 "cells": [
  {
   "cell_type": "code",
   "execution_count": 1,
   "id": "24fa3a30",
   "metadata": {
    "_cell_guid": "b1076dfc-b9ad-4769-8c92-a6c4dae69d19",
    "_uuid": "8f2839f25d086af736a60e9eeb907d3b93b6e0e5",
    "execution": {
     "iopub.execute_input": "2023-09-09T14:35:30.459503Z",
     "iopub.status.busy": "2023-09-09T14:35:30.458974Z",
     "iopub.status.idle": "2023-09-09T14:35:32.543662Z",
     "shell.execute_reply": "2023-09-09T14:35:32.542468Z"
    },
    "papermill": {
     "duration": 2.095868,
     "end_time": "2023-09-09T14:35:32.546465",
     "exception": false,
     "start_time": "2023-09-09T14:35:30.450597",
     "status": "completed"
    },
    "tags": []
   },
   "outputs": [],
   "source": [
    "import numpy as np # linear algebra\n",
    "import pandas as pd # data processing, CSV file I/O (e.g. pd.read_csv)\n",
    "\n",
    "import matplotlib as mpl\n",
    "import matplotlib.pyplot as plt\n",
    "\n",
    "from sklearn.linear_model import LinearRegression\n",
    "from sklearn.preprocessing import PolynomialFeatures"
   ]
  },
  {
   "cell_type": "markdown",
   "id": "a5c6a2ce",
   "metadata": {
    "papermill": {
     "duration": 0.00621,
     "end_time": "2023-09-09T14:35:32.559625",
     "exception": false,
     "start_time": "2023-09-09T14:35:32.553415",
     "status": "completed"
    },
    "tags": []
   },
   "source": [
    "### Generating non-linear dataset based on 2-degree polynomial "
   ]
  },
  {
   "cell_type": "code",
   "execution_count": 2,
   "id": "a2c7198e",
   "metadata": {
    "execution": {
     "iopub.execute_input": "2023-09-09T14:35:32.575191Z",
     "iopub.status.busy": "2023-09-09T14:35:32.574611Z",
     "iopub.status.idle": "2023-09-09T14:35:32.581116Z",
     "shell.execute_reply": "2023-09-09T14:35:32.579838Z"
    },
    "papermill": {
     "duration": 0.017661,
     "end_time": "2023-09-09T14:35:32.583472",
     "exception": false,
     "start_time": "2023-09-09T14:35:32.565811",
     "status": "completed"
    },
    "tags": []
   },
   "outputs": [],
   "source": [
    "n = 100\n",
    "X = 6 * np.random.rand(n,1)-3\n",
    "y = 0.5 * X**2 + 1 * X + 2 + np.random.rand(n,1)"
   ]
  },
  {
   "cell_type": "markdown",
   "id": "28c764a6",
   "metadata": {
    "papermill": {
     "duration": 0.006257,
     "end_time": "2023-09-09T14:35:32.595571",
     "exception": false,
     "start_time": "2023-09-09T14:35:32.589314",
     "status": "completed"
    },
    "tags": []
   },
   "source": [
    "### Plotting the dataset"
   ]
  },
  {
   "cell_type": "code",
   "execution_count": 3,
   "id": "a15060be",
   "metadata": {
    "execution": {
     "iopub.execute_input": "2023-09-09T14:35:32.610111Z",
     "iopub.status.busy": "2023-09-09T14:35:32.609687Z",
     "iopub.status.idle": "2023-09-09T14:35:33.154391Z",
     "shell.execute_reply": "2023-09-09T14:35:33.152794Z"
    },
    "papermill": {
     "duration": 0.554799,
     "end_time": "2023-09-09T14:35:33.157312",
     "exception": false,
     "start_time": "2023-09-09T14:35:32.602513",
     "status": "completed"
    },
    "tags": []
   },
   "outputs": [
    {
     "data": {
      "image/png": "[encoded data removed]",
      "text/plain": [
       "<Figure size 640x480 with 1 Axes>"
      ]
     },
     "metadata": {},
     "output_type": "display_data"
    }
   ],
   "source": [
    "plt.plot(X,y,'b.')\n",
    "plt.xlabel('X')\n",
    "plt.ylabel('y')\n",
    "plt.title('Non-linear Dataset')\n",
    "plt.axis([-3,4,0.5,12])\n",
    "plt.grid(True)\n"
   ]
  },
  {
   "cell_type": "markdown",
   "id": "89d27db8",
   "metadata": {
    "papermill": {
     "duration": 0.006609,
     "end_time": "2023-09-09T14:35:33.171079",
     "exception": false,
     "start_time": "2023-09-09T14:35:33.164470",
     "status": "completed"
    },
    "tags": []
   },
   "source": [
    "### Transforming dataset to have polynomial features\n",
    "Adding square of each feature as new features"
   ]
  },
  {
   "cell_type": "code",
   "execution_count": 4,
   "id": "4e178fb7",
   "metadata": {
    "execution": {
     "iopub.execute_input": "2023-09-09T14:35:33.187188Z",
     "iopub.status.busy": "2023-09-09T14:35:33.186712Z",
     "iopub.status.idle": "2023-09-09T14:35:33.195378Z",
     "shell.execute_reply": "2023-09-09T14:35:33.193972Z"
    },
    "papermill": {
     "duration": 0.020543,
     "end_time": "2023-09-09T14:35:33.197982",
     "exception": false,
     "start_time": "2023-09-09T14:35:33.177439",
     "status": "completed"
    },
    "tags": []
   },
   "outputs": [
    {
     "name": "stdout",
     "output_type": "stream",
     "text": [
      "[-0.71946389]\n",
      "[-0.71946389  0.51762829]\n"
     ]
    }
   ],
   "source": [
    "poly_features = PolynomialFeatures(degree=2, include_bias = False)\n",
    "X_ploy = poly_features.fit_transform(X)\n",
    "print(X[0])\n",
    "print(X_ploy[0])"
   ]
  },
  {
   "cell_type": "markdown",
   "id": "97dc1787",
   "metadata": {
    "papermill": {
     "duration": 0.006258,
     "end_time": "2023-09-09T14:35:33.210911",
     "exception": false,
     "start_time": "2023-09-09T14:35:33.204653",
     "status": "completed"
    },
    "tags": []
   },
   "source": [
    "### Using new polynomial features to train the Linear Regression model"
   ]
  },
  {
   "cell_type": "code",
   "execution_count": 5,
   "id": "9927b3ee",
   "metadata": {
    "execution": {
     "iopub.execute_input": "2023-09-09T14:35:33.226975Z",
     "iopub.status.busy": "2023-09-09T14:35:33.226573Z",
     "iopub.status.idle": "2023-09-09T14:35:33.264826Z",
     "shell.execute_reply": "2023-09-09T14:35:33.263118Z"
    },
    "papermill": {
     "duration": 0.050032,
     "end_time": "2023-09-09T14:35:33.268496",
     "exception": false,
     "start_time": "2023-09-09T14:35:33.218464",
     "status": "completed"
    },
    "tags": []
   },
   "outputs": [
    {
     "data": {
      "text/plain": [
       "(array([2.47258523]), array([[0.98735769, 0.50213115]]))"
      ]
     },
     "execution_count": 5,
     "metadata": {},
     "output_type": "execute_result"
    }
   ],
   "source": [
    "lin_reg = LinearRegression()\n",
    "lin_reg.fit(X_ploy,y)\n",
    "lin_reg.intercept_, lin_reg.coef_"
   ]
  },
  {
   "cell_type": "markdown",
   "id": "9d112e7f",
   "metadata": {
    "papermill": {
     "duration": 0.010363,
     "end_time": "2023-09-09T14:35:33.288017",
     "exception": false,
     "start_time": "2023-09-09T14:35:33.277654",
     "status": "completed"
    },
    "tags": []
   },
   "source": [
    "### Using the trained Linear Regression model to make predictions"
   ]
  },
  {
   "cell_type": "code",
   "execution_count": 6,
   "id": "a6a2e371",
   "metadata": {
    "execution": {
     "iopub.execute_input": "2023-09-09T14:35:33.308255Z",
     "iopub.status.busy": "2023-09-09T14:35:33.307435Z",
     "iopub.status.idle": "2023-09-09T14:35:33.670185Z",
     "shell.execute_reply": "2023-09-09T14:35:33.668981Z"
    },
    "papermill": {
     "duration": 0.37622,
     "end_time": "2023-09-09T14:35:33.673758",
     "exception": false,
     "start_time": "2023-09-09T14:35:33.297538",
     "status": "completed"
    },
    "tags": []
   },
   "outputs": [
    {
     "data": {
      "image/png": "[encoded data removed]",
      "text/plain": [
       "<Figure size 640x480 with 1 Axes>"
      ]
     },
     "metadata": {},
     "output_type": "display_data"
    }
   ],
   "source": [
    "X_new = np.sort(X,axis = 0) \n",
    "X_new_ploy = poly_features.fit_transform(X_new)\n",
    "y_predict = lin_reg.predict(X_new_ploy)\n",
    "fig,ax = plt.subplots()\n",
    "ax.plot(X,y,'b.', label = 'Date samples')\n",
    "ax.plot(X_new,y_predict,'g',label = 'Predictions')\n",
    "ax.axis([-3,4,0.5,12])\n",
    "ax.set_xlabel('X')\n",
    "ax.set_ylabel('y')\n",
    "ax.legend()\n",
    "ax.grid(True)"
   ]
  }
 ],
 "kernelspec": {
  "display_name": "Python 3",
  "language": "python",
  "name": "python3"
 },
 "language_info": {
  "codemirror_mode": {
   "name": "ipython",
   "version": 3
  },
  "file_extension": ".py",
  "mimetype": "text/x-python",
  "name": "python",
  "nbconvert_exporter": "python",
  "pygments_lexer": "ipython3",
  "version": "3.6.4"
 },
 "metadata": {
  "kernelspec": {
   "display_name": "Python 3",
   "language": "python",
   "name": "python3"
  },
  "language_info": {
   "codemirror_mode": {
    "name": "ipython",
    "version": 3
   },
   "file_extension": ".py",
   "mimetype": "text/x-python",
   "name": "python",
   "nbconvert_exporter": "python",
   "pygments_lexer": "ipython3",
   "version": "3.10.12"
  },
  "papermill": {
   "default_parameters": {},
   "duration": 7.901077,
   "end_time": "2023-09-09T14:35:34.409667",
   "environment_variables": {},
   "exception": null,
   "input_path": "__notebook__.ipynb",
   "output_path": "__notebook__.ipynb",
   "parameters": {},
   "start_time": "2023-09-09T14:35:26.508590",
   "version": "2.4.0"
  }
 },
 "nbformat": 4,
 "nbformat_minor": 5
}
