{
 "cells": [
  {
   "cell_type": "markdown",
   "id": "1ae0e1e1",
   "metadata": {
    "papermill": {
     "duration": 0.00738,
     "end_time": "2023-09-09T19:03:49.069649",
     "exception": false,
     "start_time": "2023-09-09T19:03:49.062269",
     "status": "completed"
    },
    "tags": []
   },
   "source": [
    "## 1. Why we need Polynomial Regression?\n",
    "\n",
    "[Linear Regresspion](https://www.kaggle.com/code/lxlz1986/linear-regression-model-in-scikit-learn) is a simple model to make predictions if the relationship between target and features in a dataset is linear or close to linear. \n",
    "\n",
    "However, most of the time, our data is much more complex that it is not sufficient to represent the relationship just using a straight line. In the cases with **non-linear** data, we can try to use polynomial to simulate the relationship between the output(prediction) and input(features), such as:\n",
    "\n",
    "$$\\hat{y} = \\theta_0 + \\theta_1x +\\theta_2x^2$$\n",
    "\n",
    "where $\\hat{y}$ is the prediction, $x$ is the original feature and $x^2$ is the extended feature, which is the square of the original feature.\n",
    "\n",
    "From the mathematical aspect, we can take this polynomial equation as a liner model in which $x$ and $x^2$ are two features of a data point. This makes it possible that we can train a linear model to fit the non-linear data. This method to make predictions is called **polynomial regression**."
   ]
  },
  {
   "cell_type": "markdown",
   "id": "1ffe31af",
   "metadata": {
    "papermill": {
     "duration": 0.00599,
     "end_time": "2023-09-09T19:03:49.082140",
     "exception": false,
     "start_time": "2023-09-09T19:03:49.076150",
     "status": "completed"
    },
    "tags": []
   },
   "source": [
    "## 2. How to train Polynomial Regression model using Linear Regression model?\n",
    "\n",
    "As mentioned above, we can train a liner model to fit non-liner data by extend the single feature to multiple features.  "
   ]
  },
  {
   "cell_type": "code",
   "execution_count": 1,
   "id": "cac43787",
   "metadata": {
    "execution": {
     "iopub.execute_input": "2023-09-09T19:03:49.096323Z",
     "iopub.status.busy": "2023-09-09T19:03:49.095641Z",
     "iopub.status.idle": "2023-09-09T19:03:50.954178Z",
     "shell.execute_reply": "2023-09-09T19:03:50.952909Z"
    },
    "papermill": {
     "duration": 1.869384,
     "end_time": "2023-09-09T19:03:50.957575",
     "exception": false,
     "start_time": "2023-09-09T19:03:49.088191",
     "status": "completed"
    },
    "tags": []
   },
   "outputs": [],
   "source": [
    "import numpy as np # linear algebra\n",
    "import pandas as pd # data processing, CSV file I/O (e.g. pd.read_csv)\n",
    "\n",
    "import matplotlib as mpl\n",
    "import matplotlib.pyplot as plt\n",
    "\n",
    "from sklearn.linear_model import LinearRegression\n",
    "from sklearn.preprocessing import PolynomialFeatures"
   ]
  },
  {
   "cell_type": "markdown",
   "id": "7523ef70",
   "metadata": {
    "papermill": {
     "duration": 0.005985,
     "end_time": "2023-09-09T19:03:50.969945",
     "exception": false,
     "start_time": "2023-09-09T19:03:50.963960",
     "status": "completed"
    },
    "tags": []
   },
   "source": [
    "### Generating non-linear dataset based on 2-degree polynomial "
   ]
  },
  {
   "cell_type": "code",
   "execution_count": 2,
   "id": "9ac1ce4c",
   "metadata": {
    "execution": {
     "iopub.execute_input": "2023-09-09T19:03:50.984131Z",
     "iopub.status.busy": "2023-09-09T19:03:50.983573Z",
     "iopub.status.idle": "2023-09-09T19:03:50.989419Z",
     "shell.execute_reply": "2023-09-09T19:03:50.988344Z"
    },
    "papermill": {
     "duration": 0.015582,
     "end_time": "2023-09-09T19:03:50.991639",
     "exception": false,
     "start_time": "2023-09-09T19:03:50.976057",
     "status": "completed"
    },
    "tags": []
   },
   "outputs": [],
   "source": [
    "n = 100\n",
    "X = 6 * np.random.rand(n,1)-4\n",
    "y = X**2 + 2 * X + 3 + np.random.rand(n,1)"
   ]
  },
  {
   "cell_type": "markdown",
   "id": "3f162e2a",
   "metadata": {
    "papermill": {
     "duration": 0.005795,
     "end_time": "2023-09-09T19:03:51.003591",
     "exception": false,
     "start_time": "2023-09-09T19:03:50.997796",
     "status": "completed"
    },
    "tags": []
   },
   "source": [
    "### Plotting the dataset"
   ]
  },
  {
   "cell_type": "code",
   "execution_count": 3,
   "id": "8d15e8a6",
   "metadata": {
    "execution": {
     "iopub.execute_input": "2023-09-09T19:03:51.017373Z",
     "iopub.status.busy": "2023-09-09T19:03:51.016988Z",
     "iopub.status.idle": "2023-09-09T19:03:51.452345Z",
     "shell.execute_reply": "2023-09-09T19:03:51.451105Z"
    },
    "papermill": {
     "duration": 0.44491,
     "end_time": "2023-09-09T19:03:51.454635",
     "exception": false,
     "start_time": "2023-09-09T19:03:51.009725",
     "status": "completed"
    },
    "tags": []
   },
   "outputs": [
    {
     "data": {
      "image/png": "[encoded data removed]",
      "text/plain": [
       "<Figure size 640x480 with 1 Axes>"
      ]
     },
     "metadata": {},
     "output_type": "display_data"
    }
   ],
   "source": [
    "plt.plot(X,y,'b.')\n",
    "plt.xlabel('X')\n",
    "plt.ylabel('y')\n",
    "plt.title('Non-linear Dataset')\n",
    "plt.axis([-3,3,0.5,12])\n",
    "plt.grid(True)\n"
   ]
  },
  {
   "cell_type": "markdown",
   "id": "a0a0db1f",
   "metadata": {
    "papermill": {
     "duration": 0.006492,
     "end_time": "2023-09-09T19:03:51.467938",
     "exception": false,
     "start_time": "2023-09-09T19:03:51.461446",
     "status": "completed"
    },
    "tags": []
   },
   "source": [
    "### Transforming dataset to have polynomial features\n",
    "Adding square of each feature as new features"
   ]
  },
  {
   "cell_type": "code",
   "execution_count": 4,
   "id": "d166dcbb",
   "metadata": {
    "execution": {
     "iopub.execute_input": "2023-09-09T19:03:51.483114Z",
     "iopub.status.busy": "2023-09-09T19:03:51.482502Z",
     "iopub.status.idle": "2023-09-09T19:03:51.491052Z",
     "shell.execute_reply": "2023-09-09T19:03:51.489739Z"
    },
    "papermill": {
     "duration": 0.018898,
     "end_time": "2023-09-09T19:03:51.493391",
     "exception": false,
     "start_time": "2023-09-09T19:03:51.474493",
     "status": "completed"
    },
    "tags": []
   },
   "outputs": [
    {
     "name": "stdout",
     "output_type": "stream",
     "text": [
      "[-3.8856858]\n",
      "[-3.8856858  15.09855412]\n"
     ]
    }
   ],
   "source": [
    "poly_features = PolynomialFeatures(degree=2, include_bias = False)\n",
    "X_ploy = poly_features.fit_transform(X)\n",
    "print(X[0])\n",
    "print(X_ploy[0])"
   ]
  },
  {
   "cell_type": "markdown",
   "id": "b852b9cd",
   "metadata": {
    "papermill": {
     "duration": 0.006835,
     "end_time": "2023-09-09T19:03:51.507029",
     "exception": false,
     "start_time": "2023-09-09T19:03:51.500194",
     "status": "completed"
    },
    "tags": []
   },
   "source": [
    "### Using new polynomial features to train the Linear Regression model"
   ]
  },
  {
   "cell_type": "code",
   "execution_count": 5,
   "id": "b555715b",
   "metadata": {
    "execution": {
     "iopub.execute_input": "2023-09-09T19:03:51.522208Z",
     "iopub.status.busy": "2023-09-09T19:03:51.521803Z",
     "iopub.status.idle": "2023-09-09T19:03:51.551242Z",
     "shell.execute_reply": "2023-09-09T19:03:51.549965Z"
    },
    "papermill": {
     "duration": 0.040102,
     "end_time": "2023-09-09T19:03:51.553788",
     "exception": false,
     "start_time": "2023-09-09T19:03:51.513686",
     "status": "completed"
    },
    "tags": []
   },
   "outputs": [
    {
     "data": {
      "text/plain": [
       "(array([3.49371614]), array([[1.99088233, 1.00308178]]))"
      ]
     },
     "execution_count": 5,
     "metadata": {},
     "output_type": "execute_result"
    }
   ],
   "source": [
    "lin_reg = LinearRegression()\n",
    "lin_reg.fit(X_ploy,y)\n",
    "lin_reg.intercept_, lin_reg.coef_"
   ]
  },
  {
   "cell_type": "markdown",
   "id": "af96eba0",
   "metadata": {
    "papermill": {
     "duration": 0.006851,
     "end_time": "2023-09-09T19:03:51.567791",
     "exception": false,
     "start_time": "2023-09-09T19:03:51.560940",
     "status": "completed"
    },
    "tags": []
   },
   "source": [
    "### Using the trained Linear Regression model to make predictions"
   ]
  },
  {
   "cell_type": "code",
   "execution_count": 6,
   "id": "fcaf9135",
   "metadata": {
    "execution": {
     "iopub.execute_input": "2023-09-09T19:03:51.583047Z",
     "iopub.status.busy": "2023-09-09T19:03:51.582648Z",
     "iopub.status.idle": "2023-09-09T19:03:51.924532Z",
     "shell.execute_reply": "2023-09-09T19:03:51.923444Z"
    },
    "papermill": {
     "duration": 0.352581,
     "end_time": "2023-09-09T19:03:51.927048",
     "exception": false,
     "start_time": "2023-09-09T19:03:51.574467",
     "status": "completed"
    },
    "tags": []
   },
   "outputs": [
    {
     "data": {
      "image/png": "[encoded data removed]",
      "text/plain": [
       "<Figure size 640x480 with 1 Axes>"
      ]
     },
     "metadata": {},
     "output_type": "display_data"
    }
   ],
   "source": [
    "X_new = np.sort(X,axis = 0) \n",
    "X_new_ploy = poly_features.fit_transform(X_new)\n",
    "y_predict = lin_reg.predict(X_new_ploy)\n",
    "fig,ax = plt.subplots()\n",
    "ax.plot(X,y,'b.', label = 'Date samples')\n",
    "ax.plot(X_new,y_predict,'g',linewidth=2, label = 'Predictions')\n",
    "ax.axis([-3,4,0.5,12])\n",
    "ax.set_xlabel('X')\n",
    "ax.set_ylabel('y')\n",
    "ax.legend()\n",
    "ax.grid(True)"
   ]
  }
 ],
 "kernelspec": {
  "display_name": "Python 3",
  "language": "python",
  "name": "python3"
 },
 "language_info": {
  "codemirror_mode": {
   "name": "ipython",
   "version": 3
  },
  "file_extension": ".py",
  "mimetype": "text/x-python",
  "name": "python",
  "nbconvert_exporter": "python",
  "pygments_lexer": "ipython3",
  "version": "3.6.4"
 },
 "metadata": {
  "kernelspec": {
   "display_name": "Python 3",
   "language": "python",
   "name": "python3"
  },
  "language_info": {
   "codemirror_mode": {
    "name": "ipython",
    "version": 3
   },
   "file_extension": ".py",
   "mimetype": "text/x-python",
   "name": "python",
   "nbconvert_exporter": "python",
   "pygments_lexer": "ipython3",
   "version": "3.10.12"
  },
  "papermill": {
   "default_parameters": {},
   "duration": 6.963667,
   "end_time": "2023-09-09T19:03:52.455896",
   "environment_variables": {},
   "exception": null,
   "input_path": "__notebook__.ipynb",
   "output_path": "__notebook__.ipynb",
   "parameters": {},
   "start_time": "2023-09-09T19:03:45.492229",
   "version": "2.4.0"
  }
 },
 "nbformat": 4,
 "nbformat_minor": 5
}
